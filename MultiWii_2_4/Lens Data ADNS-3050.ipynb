{
 "cells": [
  {
   "cell_type": "markdown",
   "metadata": {},
   "source": [
    "ADNS-3050 uses lens ADNS-5110-001, see http://www.pixart.com.tw/upload/ADNS-5110-001%20DS_S_V1.0_20130514143944.pdf\n",
    "\n",
    "\n",
    "**Magnification / Vergrösserung**: 0.8\n",
    "\n",
    "**Object to Image Distance / Objekt zu Bild Abstand**: 8.84 mm\n",
    "\n",
    "**Lens Material Index of Refraction / Brechungsindex**: 1.582\n",
    "\n",
    "**Optical Depth of Field / Tiefenschärfe**: +/- 0.3 mm\n",
    "\n",
    "**Field Coverage Radius / ?**: 0.6 mm\n",
    "\n",
    "\n",
    "Ich vermute etwa 2f-2f Anordnung, d.h. f ~ [Object to Image Distance]/4 ~ 2.21 mm\n",
    "\n",
    "\n",
    "Vergrösserung für einzelne Linse:\n",
    "\n",
    "$M = \\frac{f}{f - d_0} = - \\frac{d_i}{d_0} = - \\frac{z_2}{z_1}$\n",
    "\n",
    "($d_0 = z_1$, $d_i = z_2$)\n",
    "\n",
    "https://en.wikipedia.org/wiki/Magnification#Single_lens\n",
    "\n",
    "\n",
    "Objekt zu Bild Abstand:\n",
    "\n",
    "$\\frac{1}{f} = \\frac{1}{g} + \\frac{1}{b} = \\frac{1}{z_1} + \\frac{1}{z_2}$\n",
    "\n",
    "($g = z_1$, $b = z_2$)\n",
    "\n",
    "$OBA = z_1 + z_2$\n",
    "\n",
    "($z_1, z_2 \\geq 0$; Saleh)\n",
    "\n",
    "\n",
    "Brennweite:\n",
    "\n",
    "$z_1 = OBA - z_2 = OBA + M * z_1$\n",
    "\n",
    "$OBA = z_1 - M * z_1 = z_1 * (1 - M)$\n",
    "\n",
    "$z_1 = \\frac{OBA}{1 - M}$\n",
    "\n",
    "\n",
    "$z_2 = OBA - z_1 = OBA - \\frac{OBA}{1 - M} = \\frac{OBA * (1 - M) - OBA}{1 - M} = \\frac{OBA * M}{M - 1}$\n",
    "\n",
    "\n",
    "$\\frac{1}{f} = \\frac{1}{z_1} + \\frac{1}{z_2} = \\frac{1 - M}{OBA} + \\frac{M - 1}{OBA * M} = \\frac{(1 - M) * M + (M - 1)}{OBA * M} = \\frac{2*M - M^2 - 1}{OBA * M}$\n",
    "\n",
    "$f = \\frac{OBA * M}{2*M - M^2 - 1}$\n",
    "\n",
    "\n",
    "Tiefenschärfe und Wahl der besten Linse:\n",
    "\n",
    "Scharf stellen (Fokus) auf unendlich: $z_1 = f \\approx 2.21$ mm, $z_2 = \\infty$\n",
    "\n",
    "-> kleine Brennweite\n",
    "\n",
    "Kleine Blende(nöffnung), ... ?\n",
    "\n",
    "  Hyperfokale Entfernung:\n",
    "\n",
    "  $d_h = f * \\left(\\frac{D}{Z} + 1\\right)$\n",
    "\n",
    "  $D$ die Eintrittspupille des Objektivs, Durchmesser des Zerstreuungskreises $Z$\n",
    "\n",
    "  https://de.wikipedia.org/wiki/Sch%C3%A4rfentiefe#Hyperfokale_Entfernung\n",
    "\n",
    "  Nahpunkt $d_n$, Fernpunkt $d_f$ ...\n",
    "\n",
    "  Schärfentiefe: $d = d_f - d_n \\propto d_h$\n",
    "\n",
    "  Aus der Näherungsformel für die hyperfokale Entfernung $d_h$ kann leicht abgelesen werden, dass diese zunimmt und der Schärfentiefebereich somit abnimmt, wenn die Brennweite \n",
    "  $f$ zunimmt, die Blendenzahl $k$ kleiner wird (respektive die Blendenöffnung $D = f/k$ größer) oder der Zerstreuungskreis $Z$ kleiner sein soll.\n",
    "  \n",
    "  Siehe auch https://www.reisen-fotografie.de/wie-funktioniert-das-mit-blende-brennweite-und-schaerfentiefe/"
   ]
  },
  {
   "cell_type": "code",
   "execution_count": 1,
   "metadata": {},
   "outputs": [],
   "source": [
    "# Linsen Spec. ADNS-5110-001\n",
    "M = -0.8    # Vergrösserung\n",
    "OBA = 8.84  # Objekt zu Bild Abstand"
   ]
  },
  {
   "cell_type": "code",
   "execution_count": 2,
   "metadata": {},
   "outputs": [
    {
     "data": {
      "text/plain": [
       "2.21"
      ]
     },
     "execution_count": 2,
     "metadata": {},
     "output_type": "execute_result"
    }
   ],
   "source": [
    "# Approximation Brennweite f ~ OBA/4\n",
    "OBA/4"
   ]
  },
  {
   "cell_type": "code",
   "execution_count": 3,
   "metadata": {},
   "outputs": [
    {
     "data": {
      "text/plain": [
       "4.9111111111111105"
      ]
     },
     "execution_count": 3,
     "metadata": {},
     "output_type": "execute_result"
    }
   ],
   "source": [
    "# z_1 - Objekt-Abstand (Tischoberfläche)\n",
    "z_1 = OBA / (1. - M)\n",
    "z_1"
   ]
  },
  {
   "cell_type": "code",
   "execution_count": 4,
   "metadata": {},
   "outputs": [
    {
     "data": {
      "text/plain": [
       "3.928888888888889"
      ]
     },
     "execution_count": 4,
     "metadata": {},
     "output_type": "execute_result"
    }
   ],
   "source": [
    "# z_2 - Bild-Abstand (CCD Chip)\n",
    "z_2 = OBA * M / (M - 1.)\n",
    "z_2"
   ]
  },
  {
   "cell_type": "code",
   "execution_count": 9,
   "metadata": {},
   "outputs": [
    {
     "data": {
      "text/plain": [
       "((8.84, True), (-0.8, True))"
      ]
     },
     "execution_count": 9,
     "metadata": {},
     "output_type": "execute_result"
    }
   ],
   "source": [
    "# Kontrolle des Resultats\n",
    "((z_1 + z_2), ((z_1 + z_2) == OBA)), ((-z_2/z_1), ((-z_2/z_1) == M))"
   ]
  },
  {
   "cell_type": "code",
   "execution_count": 6,
   "metadata": {},
   "outputs": [
    {
     "data": {
      "text/plain": [
       "2.182716049382716"
      ]
     },
     "execution_count": 6,
     "metadata": {},
     "output_type": "execute_result"
    }
   ],
   "source": [
    "# Brennweite des Linse\n",
    "f = (OBA * M) / (2.*M - M**2 - 1.)\n",
    "f"
   ]
  },
  {
   "cell_type": "code",
   "execution_count": 11,
   "metadata": {},
   "outputs": [
    {
     "data": {
      "text/plain": [
       "(-0.8, True)"
      ]
     },
     "execution_count": 11,
     "metadata": {},
     "output_type": "execute_result"
    }
   ],
   "source": [
    "# Kontrolle ...\n",
    "((f / (f - z_1)), ((f / (f - z_1)) == M))"
   ]
  },
  {
   "cell_type": "markdown",
   "metadata": {},
   "source": [
    "Surface < -- z_1=4.91mm -- Lens f=2.18mm -- z_2=3.93mm -- > CCD chip\n",
    "\n",
    "Benötige also **Linse/Ojektiv mit ca. 4mm Brennweite** (etwas mehr kann mit Ring ausgeglichen auch zu zuwenig gemacht werden - zuwenig ist nicht variierbar)\n",
    "\n",
    "**CCD Chip soll im Fokus ev. etwas weiter entfernt liegen** um von unendlich abzubilden - max. Tiefenschärfe - Distanzen (z.B. 2m) sind unendlich im Vergleich zu 4mm\n",
    "\n",
    "**Blende?**"
   ]
  },
  {
   "cell_type": "markdown",
   "metadata": {},
   "source": [
    "Linsen-Radius:\n",
    "\n",
    "(Saleh oder https://de.wikipedia.org/wiki/D%C3%BCnne_Linse#N%C3%A4herung_f%C3%BCr_d%C3%BCnne_Linse)\n",
    "\n",
    "$\\frac{1}{f} = (n - 1) * \\left(\\frac{1}{R_1} - \\frac{1}{R_2}\\right)$\n",
    "\n",
    "Symmetrische Linse: $R = R_1 = -R_2$\n",
    "\n",
    "$\\frac{1}{f} = (n - 1) * \\left(\\frac{1}{R} + \\frac{1}{R}\\right) = (n - 1) * \\frac{2}{R} = \\frac{2 * (n - 1)}{R}$\n",
    "\n",
    "$f = \\frac{R}{2 * (n - 1)}$\n",
    "\n",
    "$R = 2 * (n - 1) * f$"
   ]
  },
  {
   "cell_type": "code",
   "execution_count": 14,
   "metadata": {},
   "outputs": [],
   "source": [
    "# Linsen Spec. ADNS-5110-001\n",
    "n = 1.582   # Brechungsindex"
   ]
  },
  {
   "cell_type": "code",
   "execution_count": 15,
   "metadata": {},
   "outputs": [
    {
     "data": {
      "text/plain": [
       "2.5406814814814815"
      ]
     },
     "execution_count": 15,
     "metadata": {},
     "output_type": "execute_result"
    }
   ],
   "source": [
    "R = 2. * (n - 1.) * f\n",
    "R"
   ]
  },
  {
   "cell_type": "markdown",
   "metadata": {},
   "source": [
    "ADNS-3050, see (datasheet)\n",
    "\n",
    "\n",
    "**Clear Optical Path / ?**: 0.7 mm\n",
    "\n",
    "**Resolution of sensor / ?**: 250-2000dpi (1000dpi default)"
   ]
  },
  {
   "cell_type": "code",
   "execution_count": 16,
   "metadata": {},
   "outputs": [],
   "source": [
    "# Sensor Spec. ADNS-3050\n",
    "D = 0.7\n",
    "Z = 25.4 / 1000"
   ]
  },
  {
   "cell_type": "code",
   "execution_count": 17,
   "metadata": {},
   "outputs": [
    {
     "data": {
      "text/plain": [
       "62.33630796150481"
      ]
     },
     "execution_count": 17,
     "metadata": {},
     "output_type": "execute_result"
    }
   ],
   "source": [
    "# Hyperfokale Entfernung\n",
    "# 250-2000dpi (1000dpi default)\n",
    "d_h = f * (D/Z + 1.)\n",
    "d_h"
   ]
  },
  {
   "cell_type": "code",
   "execution_count": 15,
   "metadata": {},
   "outputs": [],
   "source": [
    "# ...bedeutes WAS? ...ab dieser Distanz ist scharf? Umrechnung in Tiefenschärfe?"
   ]
  },
  {
   "cell_type": "code",
   "execution_count": null,
   "metadata": {},
   "outputs": [],
   "source": []
  }
 ],
 "metadata": {
  "kernelspec": {
   "display_name": "Python 3",
   "language": "python",
   "name": "python3"
  },
  "language_info": {
   "codemirror_mode": {
    "name": "ipython",
    "version": 3
   },
   "file_extension": ".py",
   "mimetype": "text/x-python",
   "name": "python",
   "nbconvert_exporter": "python",
   "pygments_lexer": "ipython3",
   "version": "3.6.4"
  }
 },
 "nbformat": 4,
 "nbformat_minor": 2
}
